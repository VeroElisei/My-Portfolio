{
 "cells": [
  {
   "cell_type": "code",
   "execution_count": 1,
   "id": "b2e64d52",
   "metadata": {
    "execution": {
     "iopub.execute_input": "2022-01-17T14:42:20.311905Z",
     "iopub.status.busy": "2022-01-17T14:42:20.310845Z",
     "iopub.status.idle": "2022-01-17T14:42:20.315381Z",
     "shell.execute_reply": "2022-01-17T14:42:20.314608Z",
     "shell.execute_reply.started": "2022-01-17T14:32:18.663302Z"
    },
    "papermill": {
     "duration": 0.022846,
     "end_time": "2022-01-17T14:42:20.315557",
     "exception": false,
     "start_time": "2022-01-17T14:42:20.292711",
     "status": "completed"
    },
    "tags": []
   },
   "outputs": [],
   "source": [
    "#import numpy, matplotlib, set seed\n",
    "import numpy as np\n",
    "import matplotlib.pyplot as plt\n",
    "from random import randint\n",
    "np.random.seed(123)"
   ]
  },
  {
   "cell_type": "code",
   "execution_count": 2,
   "id": "e2549f8c",
   "metadata": {
    "execution": {
     "iopub.execute_input": "2022-01-17T14:42:20.338986Z",
     "iopub.status.busy": "2022-01-17T14:42:20.326802Z",
     "iopub.status.idle": "2022-01-17T14:42:21.409253Z",
     "shell.execute_reply": "2022-01-17T14:42:21.408497Z",
     "shell.execute_reply.started": "2022-01-17T14:33:22.916982Z"
    },
    "papermill": {
     "duration": 1.089431,
     "end_time": "2022-01-17T14:42:21.409427",
     "exception": false,
     "start_time": "2022-01-17T14:42:20.319996",
     "status": "completed"
    },
    "tags": []
   },
   "outputs": [],
   "source": [
    "#simulate random walk\n",
    "all_walks = []\n",
    "for i in range(250):\n",
    "    random_walk = [0]\n",
    "    for x in range (500):\n",
    "        step = random_walk[-1]\n",
    "        dice = np.random.randint(1,7)\n",
    "        if dice <= 2:\n",
    "            step = max(0, step - 1)\n",
    "        elif dice <=5:\n",
    "            step = step + 1\n",
    "        else:\n",
    "            step = step + np.random.randint(1,7)\n",
    "            \n",
    "        #implement clumsiness\n",
    "        if np.random.rand() <= 0.001:\n",
    "            step = 0\n",
    "        \n",
    "        random_walk.append(step)\n",
    "    all_walks.append(random_walk)\n",
    "   \n",
    "    "
   ]
  },
  {
   "cell_type": "code",
   "execution_count": 3,
   "id": "46033ed8",
   "metadata": {
    "execution": {
     "iopub.execute_input": "2022-01-17T14:42:21.454970Z",
     "iopub.status.busy": "2022-01-17T14:42:21.454250Z",
     "iopub.status.idle": "2022-01-17T14:42:21.679890Z",
     "shell.execute_reply": "2022-01-17T14:42:21.680469Z",
     "shell.execute_reply.started": "2022-01-17T14:41:39.984555Z"
    },
    "papermill": {
     "duration": 0.267168,
     "end_time": "2022-01-17T14:42:21.680653",
     "exception": false,
     "start_time": "2022-01-17T14:42:21.413485",
     "status": "completed"
    },
    "tags": []
   },
   "outputs": [
    {
     "data": {
      "image/png": "[encoded data removed]",
      "text/plain": [
       "<Figure size 432x288 with 1 Axes>"
      ]
     },
     "metadata": {
      "needs_background": "light"
     },
     "output_type": "display_data"
    }
   ],
   "source": [
    "#Create and plot np_aw_t\n",
    "np_aw_t = np.transpose(np.array(all_walks))\n",
    "\n",
    "#Select last row from np_aw_t\n",
    "ends = np_aw_t[-1,:]\n",
    "\n",
    "#Plot histogram of ends, display plot\n",
    "plt.hist(ends)\n",
    "plt.show()"
   ]
  }
 ],
 "metadata": {
  "kernelspec": {
   "display_name": "Python 3",
   "language": "python",
   "name": "python3"
  },
  "language_info": {
   "codemirror_mode": {
    "name": "ipython",
    "version": 3
   },
   "file_extension": ".py",
   "mimetype": "text/x-python",
   "name": "python",
   "nbconvert_exporter": "python",
   "pygments_lexer": "ipython3",
   "version": "3.7.12"
  },
  "papermill": {
   "default_parameters": {},
   "duration": 13.122044,
   "end_time": "2022-01-17T14:42:22.397069",
   "environment_variables": {},
   "exception": null,
   "input_path": "__notebook__.ipynb",
   "output_path": "__notebook__.ipynb",
   "parameters": {},
   "start_time": "2022-01-17T14:42:09.275025",
   "version": "2.3.3"
  }
 },
 "nbformat": 4,
 "nbformat_minor": 5
}
